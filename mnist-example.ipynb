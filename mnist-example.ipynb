{
 "cells": [
  {
   "cell_type": "markdown",
   "metadata": {},
   "source": [
    "In this example we build a simple neural network in tensorflow to classify handwritten digits from the well-known mnist dataset. Mnist stands for Modified National Institute of Standards and Technology, and the dataset is a widely used, easy to learn, set of handwritten digits. The best models can get an error rate of < 0.5%."
   ]
  },
  {
   "cell_type": "markdown",
   "metadata": {},
   "source": [
    "First download the mnist data. The data source we use is: https://pjreddie.com/projects/mnist-in-csv/"
   ]
  },
  {
   "cell_type": "code",
   "execution_count": 162,
   "metadata": {
    "collapsed": true
   },
   "outputs": [],
   "source": [
    "import os\n",
    "import urllib\n",
    "if 'mnist_train.csv' not in os.listdir(\".\"):\n",
    "    url = 'https://pjreddie.com/media/files/mnist_train.csv'\n",
    "    urllib.urlretrieve(url, 'mnist_train.csv')\n",
    "if 'mnist_test.csv' not in os.listdir(\".\"):\n",
    "    url = 'https://pjreddie.com/media/files/mnist_test.csv'\n",
    "    urllib.urlretrieve(url, 'mnist_test.csv')"
   ]
  },
  {
   "cell_type": "markdown",
   "metadata": {},
   "source": [
    "Now that we have the files, read them into an array. Each file contains one line for each image, with comma separated values. On each line the first number is the digit to predict (0 up to 9) and the remaining 784 numbers are the pixel values (in the range 0 to 255)."
   ]
  },
  {
   "cell_type": "code",
   "execution_count": 163,
   "metadata": {
    "collapsed": true
   },
   "outputs": [],
   "source": [
    "def read_mnist_data(filename):\n",
    "    # Open the file for reading\n",
    "    f = open(filename, 'r')\n",
    "    \n",
    "    # X is a list of all the images, represented as 784 pixels (for a 28x28 image)\n",
    "    X = []\n",
    "    # Y is a list of the corresponding labels (0-9)\n",
    "    Y = []\n",
    "    \n",
    "    # For each line in the file, add the image to X and add the label to Y\n",
    "    for line in f:\n",
    "        # First map the line (which is just a string) to an array containing the numbers in the line\n",
    "        values = map(int, line.split(','))\n",
    "        # The label is the first value\n",
    "        Y.append(values[0])\n",
    "        # The image is the list of remaining values\n",
    "        X.append(values[1:])\n",
    "    X = np.array(X, \"float\") / 255.0\n",
    "    return X, Y"
   ]
  },
  {
   "cell_type": "code",
   "execution_count": 164,
   "metadata": {
    "collapsed": true
   },
   "outputs": [],
   "source": [
    "X_train_all, Y_train_all = read_mnist_data('mnist_train.csv')\n",
    "X_test, Y_test = read_mnist_data('mnist_test.csv')"
   ]
  },
  {
   "cell_type": "code",
   "execution_count": 165,
   "metadata": {
    "collapsed": false
   },
   "outputs": [
    {
     "name": "stdout",
     "output_type": "stream",
     "text": [
      "(60000, 784)\n"
     ]
    }
   ],
   "source": [
    "import numpy as np\n",
    "print np.shape(X_train_all)"
   ]
  },
  {
   "cell_type": "markdown",
   "metadata": {},
   "source": [
    "Let's have a look at a few images so that we understand the data we are trying to learn. Note that each image is grayscale."
   ]
  },
  {
   "cell_type": "code",
   "execution_count": 166,
   "metadata": {
    "collapsed": true
   },
   "outputs": [],
   "source": [
    "import matplotlib.pyplot as plt\n",
    "# Takes in an array of 784 pixel values and a label for the title of the image\n",
    "def plot_image(pixels, label):\n",
    "    image = np.reshape(pixels, [28,28])\n",
    "    plt.imshow(image, cmap='gray')\n",
    "    plt.title(label)\n",
    "    plt.show()"
   ]
  },
  {
   "cell_type": "code",
   "execution_count": 167,
   "metadata": {
    "collapsed": false
   },
   "outputs": [
    {
     "data": {
      "image/png": "[encoded data removed]",
      "text/plain": [
       "<matplotlib.figure.Figure at 0x130ad7a10>"
      ]
     },
     "metadata": {},
     "output_type": "display_data"
    },
    {
     "data": {
      "image/png": "[encoded data removed]",
      "text/plain": [
       "<matplotlib.figure.Figure at 0x12006e250>"
      ]
     },
     "metadata": {},
     "output_type": "display_data"
    },
    {
     "data": {
      "image/png": "[encoded data removed]",
      "text/plain": [
       "<matplotlib.figure.Figure at 0x11fcdfc90>"
      ]
     },
     "metadata": {},
     "output_type": "display_data"
    },
    {
     "data": {
      "image/png": "[encoded data removed]",
      "text/plain": [
       "<matplotlib.figure.Figure at 0x116017210>"
      ]
     },
     "metadata": {},
     "output_type": "display_data"
    },
    {
     "data": {
      "image/png": "[encoded data removed]",
      "text/plain": [
       "<matplotlib.figure.Figure at 0x120059410>"
      ]
     },
     "metadata": {},
     "output_type": "display_data"
    },
    {
     "data": {
      "image/png": "[encoded data removed]",
      "text/plain": [
       "<matplotlib.figure.Figure at 0x11651d5d0>"
      ]
     },
     "metadata": {},
     "output_type": "display_data"
    },
    {
     "data": {
      "image/png": "[encoded data removed]",
      "text/plain": [
       "<matplotlib.figure.Figure at 0x120294a10>"
      ]
     },
     "metadata": {},
     "output_type": "display_data"
    },
    {
     "data": {
      "image/png": "[encoded data removed]",
      "text/plain": [
       "<matplotlib.figure.Figure at 0x11fe79b50>"
      ]
     },
     "metadata": {},
     "output_type": "display_data"
    },
    {
     "data": {
      "image/png": "[encoded data removed]",
      "text/plain": [
       "<matplotlib.figure.Figure at 0x11eabbfd0>"
      ]
     },
     "metadata": {},
     "output_type": "display_data"
    },
    {
     "data": {
      "image/png": "[encoded data removed]",
      "text/plain": [
       "<matplotlib.figure.Figure at 0x1169cf150>"
      ]
     },
     "metadata": {},
     "output_type": "display_data"
    }
   ],
   "source": [
    "for i in range(10):\n",
    "    plot_image(X_train_all[i], Y_train_all[i])"
   ]
  },
  {
   "cell_type": "markdown",
   "metadata": {},
   "source": [
    "We split the training data into training and validation data so that we can avoid overfitting. We use 20% of the data for validation and the remaining 80% for training."
   ]
  },
  {
   "cell_type": "code",
   "execution_count": 168,
   "metadata": {
    "collapsed": false
   },
   "outputs": [
    {
     "name": "stdout",
     "output_type": "stream",
     "text": [
      "Using 48000 images for training and 12000 images for validation.\n"
     ]
    }
   ],
   "source": [
    "train_pc = 0.8\n",
    "num_train = int(len(X_train_all) * train_pc)\n",
    "X_train = X_train_all[:num_train]\n",
    "Y_train = Y_train_all[:num_train]\n",
    "X_valid = X_train_all[num_train:]\n",
    "Y_valid = Y_train_all[num_train:]\n",
    "print \"Using\", len(X_train), \"images for training and\", len(X_valid), \"images for validation.\""
   ]
  },
  {
   "cell_type": "markdown",
   "metadata": {},
   "source": [
    "We now use tensorflow to create a simple neural network and try to use this to classify the mnist data."
   ]
  },
  {
   "cell_type": "code",
   "execution_count": 169,
   "metadata": {
    "collapsed": true
   },
   "outputs": [],
   "source": [
    "import tensorflow as tf\n",
    "\n",
    "def build_network(num_hidden, num_input=784, num_output=10):\n",
    "    # The input layer takes in an array with 784 columns and any number of rows.\n",
    "    # This lets us pass in the data in batches.\n",
    "    input_layer = tf.placeholder(\"float\", shape=[None, num_input])\n",
    "    \n",
    "    # The first layer is just input_layer * W1 + b1, where W1 is a 784 x num_hidden\n",
    "    # matrix and b1 is a num_hidden-dimensional vector. We then apply a nonlinearity,\n",
    "    # and have chosen to use relu here. The relu function just sets all negative entries\n",
    "    # to zero. It's important to put something nonlinear in, else using 2 layers\n",
    "    # would have the same effect as using 1 layer.\n",
    "    W1 = tf.Variable(tf.truncated_normal([num_input, num_hidden], stddev=0.01))\n",
    "    b1 = tf.Variable(tf.constant(0.1, shape=[num_hidden]))\n",
    "    fc1 = tf.nn.relu(tf.matmul(input_layer, W1) + b1)\n",
    "    \n",
    "    # Note that fc1 will be a batch_size x num_hidden array.\n",
    "    \n",
    "    # The second layer is defined in exactly the same way as the first, but we don't\n",
    "    # apply a relu afterwards. The output of fc2 will be a batch_size x 10 array.\n",
    "    W2 = tf.Variable(tf.truncated_normal([num_hidden, num_output], stddev=0.01))\n",
    "    b2 = tf.Variable(tf.constant(0.1, shape=[num_output]))\n",
    "    fc2 = tf.matmul(fc1, W2) + b2\n",
    "    \n",
    "    # Now use a sigmoid to make the entries in each row sum to 1. We can interpret the\n",
    "    # output as the probability that the digit is that value.\n",
    "    output_layer = tf.nn.softmax(fc2)\n",
    "    \n",
    "    # We only need to have access to the input layer and output layer -- tensorflow\n",
    "    # will do the rest!\n",
    "    return input_layer, output_layer"
   ]
  },
  {
   "cell_type": "markdown",
   "metadata": {},
   "source": [
    "Now build a network with 100 hidden units, using the function above, and define some operators in tensorflow to do the training for us."
   ]
  },
  {
   "cell_type": "code",
   "execution_count": 170,
   "metadata": {
    "collapsed": false
   },
   "outputs": [],
   "source": [
    "tf_input_layer, tf_output_layer = build_network(100)\n",
    "\n",
    "# The target is a list of 'one-hot vectors'. Each vector has a 1 in the index of the\n",
    "# correct label and 0s in all other places.\n",
    "tf_target = tf.placeholder(\"float\", shape=[None, 10])"
   ]
  },
  {
   "cell_type": "markdown",
   "metadata": {},
   "source": [
    "The cross entropy loss for a given image is defined as -log(y_i), where y = [y_0, ..., y_9] is the output of the network for the image, and i is the correct label. Note that 0 < y_i < 1. We want y_i (our prediction on the correct class) to be close to 1, and -log(y_i) gets very small as y_i gets close to 1, while it gets very large as y_i gets close to 0. So the cross entropy loss just penalises incorrect predictions. To define it in tensorflow, note that our target vector is [0, ..., 1, ..., 0], with a 1 in the ith position, and so we can just take the dot product of our output with this target vector. We then just take the mean over all the training images. Note that 'reduce_mean' just means compute the mean of an array, rather than actually try to minimise it, and similarly 'reduce_sum' means compute the sum of the array. We reduce the sum over the index '1', so that we sum across the columns."
   ]
  },
  {
   "cell_type": "code",
   "execution_count": 171,
   "metadata": {
    "collapsed": true
   },
   "outputs": [],
   "source": [
    "tf_output_clipped = tf.maximum(tf_output_layer, 0.0001)\n",
    "tf_output_clipped = tf.minimum(tf_output_clipped, 0.9999)\n",
    "tf_cross_entropy_loss = tf.reduce_mean(-tf.reduce_sum(tf_target * tf.log(tf_output_clipped), reduction_indices=[1]))"
   ]
  },
  {
   "cell_type": "markdown",
   "metadata": {},
   "source": [
    "We just want to find parameters (W1, b1, W2, b2) that minimise the cross entropy loss.\n",
    "Luckily for us, tensorflow can do this in just a few lines!"
   ]
  },
  {
   "cell_type": "code",
   "execution_count": 172,
   "metadata": {
    "collapsed": true
   },
   "outputs": [],
   "source": [
    "tf_train_op = tf.train.AdamOptimizer().minimize(tf_cross_entropy_loss)"
   ]
  },
  {
   "cell_type": "markdown",
   "metadata": {},
   "source": [
    "So far, we have just defined the operations needed to do the training. That is, we have set up the structure, but not asked tensorflow to do anything yet. So we now need to feed the train operation with data."
   ]
  },
  {
   "cell_type": "code",
   "execution_count": 173,
   "metadata": {
    "collapsed": true
   },
   "outputs": [],
   "source": [
    "def map_to_one_hot(Y, num_classes=10):\n",
    "    one_hots = np.zeros((len(Y), num_classes))\n",
    "    for i in range(len(Y)):\n",
    "        one_hots[i][Y[i]] = 1.0\n",
    "    return one_hots"
   ]
  },
  {
   "cell_type": "code",
   "execution_count": 174,
   "metadata": {
    "collapsed": true
   },
   "outputs": [],
   "source": [
    "def accuracy(output, targets):\n",
    "    predictions = np.argmax(output, axis=1)\n",
    "    return np.mean(predictions==targets)"
   ]
  },
  {
   "cell_type": "code",
   "execution_count": 176,
   "metadata": {
    "collapsed": false,
    "scrolled": false
   },
   "outputs": [
    {
     "name": "stdout",
     "output_type": "stream",
     "text": [
      "Epoch: 0 Loss: 0.489217\n",
      "Training accuracy: 0.86\n",
      "Validation accuracy: 0.926\n",
      "Epoch: 1 Loss: 0.35094\n",
      "Training accuracy: 0.86\n",
      "Validation accuracy: 0.944416666667\n",
      "Epoch: 2 Loss: 0.232992\n",
      "Training accuracy: 0.93\n",
      "Validation accuracy: 0.953\n",
      "Epoch: 3 Loss: 0.160256\n",
      "Training accuracy: 0.94\n",
      "Validation accuracy: 0.958416666667\n",
      "Epoch: 4 Loss: 0.117092\n",
      "Training accuracy: 0.97\n",
      "Validation accuracy: 0.961666666667\n",
      "Epoch: 5 Loss: 0.0880025\n",
      "Training accuracy: 0.99\n",
      "Validation accuracy: 0.96575\n",
      "Epoch: 6 Loss: 0.0673195\n",
      "Training accuracy: 0.99\n",
      "Validation accuracy: 0.967416666667\n",
      "Epoch: 7 Loss: 0.0531302\n",
      "Training accuracy: 0.99\n",
      "Validation accuracy: 0.969583333333\n",
      "Epoch: 8 Loss: 0.0425748\n",
      "Training accuracy: 0.99\n",
      "Validation accuracy: 0.970916666667\n",
      "Epoch: 9 Loss: 0.0381979\n",
      "Training accuracy: 0.99\n",
      "Validation accuracy: 0.9715\n"
     ]
    }
   ],
   "source": [
    "tf_sess = tf.Session()\n",
    "tf_sess.run(tf.global_variables_initializer())\n",
    "\n",
    "# Map the training labels to one hot vectors for testing.\n",
    "Y_train_one_hot = map_to_one_hot(Y_train)\n",
    "\n",
    "batch_size = 100\n",
    "num_epochs = 10\n",
    "for epoch in range(num_epochs):\n",
    "    i = 0\n",
    "    while i + batch_size <= len(X_train):\n",
    "        X_batch = X_train[i:i+batch_size,:]\n",
    "        Y_batch = Y_train_one_hot[i:i+batch_size,:]\n",
    "        _, loss, output = tf_sess.run([tf_train_op, tf_cross_entropy_loss, tf_output_layer], feed_dict={\n",
    "            tf_input_layer: X_batch,\n",
    "            tf_target: Y_batch\n",
    "        })\n",
    "        i += batch_size\n",
    "    print \"Epoch:\", epoch, \"Loss:\", loss\n",
    "    print \"Training accuracy:\", accuracy(output, np.argmax(Y_batch, axis=1))\n",
    "    output_valid = tf_sess.run(tf_output_layer, feed_dict={\n",
    "        tf_input_layer: X_valid\n",
    "    })\n",
    "    print \"Validation accuracy:\", accuracy(output_valid, Y_valid)"
   ]
  },
  {
   "cell_type": "markdown",
   "metadata": {},
   "source": [
    "Finally, we can check the test accuracy."
   ]
  },
  {
   "cell_type": "code",
   "execution_count": 177,
   "metadata": {
    "collapsed": false
   },
   "outputs": [
    {
     "name": "stdout",
     "output_type": "stream",
     "text": [
      "0.9721\n"
     ]
    }
   ],
   "source": [
    "output_test = tf_sess.run(tf_output_layer, feed_dict={\n",
    "    tf_input_layer: X_test\n",
    "})\n",
    "print accuracy(output_test, Y_test)"
   ]
  },
  {
   "cell_type": "markdown",
   "metadata": {},
   "source": [
    "Note how simple this model was: a feed-forward neural network with 100 hidden units in the middle layer. We didn't do any regularisation to prevent overfitting, and we still got > 97% accuracy on the test set (at least in the run I did most recently)."
   ]
  },
  {
   "cell_type": "code",
   "execution_count": null,
   "metadata": {
    "collapsed": true
   },
   "outputs": [],
   "source": []
  }
 ],
 "metadata": {
  "kernelspec": {
   "display_name": "Python [conda root]",
   "language": "python",
   "name": "conda-root-py"
  },
  "language_info": {
   "codemirror_mode": {
    "name": "ipython",
    "version": 2
   },
   "file_extension": ".py",
   "mimetype": "text/x-python",
   "name": "python",
   "nbconvert_exporter": "python",
   "pygments_lexer": "ipython2",
   "version": "2.7.13"
  }
 },
 "nbformat": 4,
 "nbformat_minor": 2
}
